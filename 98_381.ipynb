{
  "nbformat": 4,
  "nbformat_minor": 0,
  "metadata": {
    "colab": {
      "name": "98_381.ipynb",
      "provenance": [],
      "collapsed_sections": []
    },
    "kernelspec": {
      "name": "python3",
      "display_name": "Python 3"
    },
    "language_info": {
      "name": "python"
    }
  },
  "cells": [
    {
      "cell_type": "markdown",
      "metadata": {
        "id": "DKO1CHvxls4T"
      },
      "source": [
        "1  \n",
        "(list的應用)"
      ]
    },
    {
      "cell_type": "code",
      "metadata": {
        "id": "qKb9G-PGIsDl",
        "colab": {
          "base_uri": "https://localhost:8080/"
        },
        "outputId": "a0d5810f-94e3-45bc-a619-17d438236936"
      },
      "source": [
        "list_1=['a', 'b', 'c']\n",
        "list_2=['d', 'e', 'f']\n",
        "list_3=list_1 + list_2\n",
        "list_4= list_3 * 2\n",
        "print(list_4)"
      ],
      "execution_count": 3,
      "outputs": [
        {
          "output_type": "stream",
          "text": [
            "['a', 'b', 'c', 'd', 'e', 'f', 'a', 'b', 'c', 'd', 'e', 'f']\n"
          ],
          "name": "stdout"
        }
      ]
    },
    {
      "cell_type": "markdown",
      "metadata": {
        "id": "9vpD6SvGmRfI"
      },
      "source": [
        "2   \n",
        "(變數型別的計算)  \n",
        "eval函式的輸入是\"字串str\"型態的數學式，回傳則是數學式計算的結果"
      ]
    },
    {
      "cell_type": "code",
      "metadata": {
        "colab": {
          "base_uri": "https://localhost:8080/"
        },
        "id": "YqbMIu2KmDdo",
        "outputId": "9ec6c6aa-1908-4473-a30c-c0d8930f5eb0"
      },
      "source": [
        "car_dist= float(eval(input(\"請輸入以公里為單位的行駛距離：\")))\n",
        "run_hour= int(eval(input(\"請輸入經過的小時數：\")))\n",
        "run_min= int(eval(input(\"請輸入經過的分鐘：\")))\n",
        "run_time= run_hour + run_min/60\n",
        "car_speed= car_dist / run_time\n",
        "print(\"汽車的時速是：\", car_speed, \"km/hr\")"
      ],
      "execution_count": 4,
      "outputs": [
        {
          "output_type": "stream",
          "text": [
            "請輸入以公里為單位的行駛距離：20\n",
            "請輸入經過的小時數：10\n",
            "請輸入經過的分鐘：600\n",
            "汽車的時速是： 1.0 km/hr\n"
          ],
          "name": "stdout"
        }
      ]
    },
    {
      "cell_type": "markdown",
      "metadata": {
        "id": "fnx_TR_ooMBr"
      },
      "source": [
        "3  \n",
        "(變數型別與運算元的應用)  \n",
        "/ : 除法  \n",
        "//: 除法取整數  \n",
        "**: 次方  \n"
      ]
    },
    {
      "cell_type": "markdown",
      "metadata": {
        "id": "Y_5bcEPgpakB"
      },
      "source": [
        "4    \n",
        "(變數型別)  "
      ]
    },
    {
      "cell_type": "code",
      "metadata": {
        "colab": {
          "base_uri": "https://localhost:8080/"
        },
        "id": "Eku5By1Anpdm",
        "outputId": "8f2e1e31-9332-4c56-f708-0ef891952553"
      },
      "source": [
        "age=12\n",
        "minor=False\n",
        "name=\"David\"\n",
        "weight=64.5\n",
        "zip = \"545\"\n",
        "print(type(age), type(minor), type(name), type(weight), type(zip))\n"
      ],
      "execution_count": 5,
      "outputs": [
        {
          "output_type": "stream",
          "text": [
            "<class 'int'> <class 'bool'> <class 'str'> <class 'float'> <class 'str'>\n"
          ],
          "name": "stdout"
        }
      ]
    },
    {
      "cell_type": "markdown",
      "metadata": {
        "id": "Rcdm1MrPqJ1H"
      },
      "source": [
        "5    \n",
        "(變數型別)"
      ]
    },
    {
      "cell_type": "code",
      "metadata": {
        "colab": {
          "base_uri": "https://localhost:8080/"
        },
        "id": "xlkjD84Fp9rQ",
        "outputId": "7e6cbe67-3966-4232-81c1-d66b3d6e2d2b"
      },
      "source": [
        "TC=input(\"請輸入攝氏溫度：\")\n",
        "TF=eval(TC) * (9/5) + 32\n",
        "message = \"攝氏\" + TC + \"度等於華氏\" + str(TF) + \"度\"\n",
        "print(message)\n",
        "print(type(TC), type(TF), type(message))"
      ],
      "execution_count": 6,
      "outputs": [
        {
          "output_type": "stream",
          "text": [
            "請輸入攝氏溫度：30\n",
            "攝氏30度等於華氏86.0度\n",
            "<class 'str'> <class 'float'> <class 'str'>\n"
          ],
          "name": "stdout"
        }
      ]
    },
    {
      "cell_type": "markdown",
      "metadata": {
        "id": "vgVzJAKiq2eN"
      },
      "source": [
        "6  \n",
        "(變數運算型別)"
      ]
    },
    {
      "cell_type": "code",
      "metadata": {
        "colab": {
          "base_uri": "https://localhost:8080/"
        },
        "id": "hXIjbxzVqtrN",
        "outputId": "d4b2f5ec-ba0c-4a3f-92a9-c27f35c452de"
      },
      "source": [
        "x1=\"0\"\n",
        "y1=4\n",
        "a=x1*y1\n",
        "print(a, type(a))\n",
        "x2=8\n",
        "y2=4\n",
        "b=x2/y2\n",
        "print(b, type(b))\n",
        "x3=10.5\n",
        "y3=1\n",
        "c=x3/y3\n",
        "print(c, type(c))"
      ],
      "execution_count": 7,
      "outputs": [
        {
          "output_type": "stream",
          "text": [
            "0000 <class 'str'>\n",
            "2.0 <class 'float'>\n",
            "10.5 <class 'float'>\n"
          ],
          "name": "stdout"
        }
      ]
    },
    {
      "cell_type": "markdown",
      "metadata": {
        "id": "F2xZ_PBpsJPJ"
      },
      "source": [
        "7   \n",
        "(變數型別)"
      ]
    },
    {
      "cell_type": "code",
      "metadata": {
        "colab": {
          "base_uri": "https://localhost:8080/"
        },
        "id": "bHSXazKorGDE",
        "outputId": "241defdb-2314-4a86-d5f4-84a9c81b19b9"
      },
      "source": [
        "print(type(1.0), type(+1E-10), type(\"False\"), type(True))"
      ],
      "execution_count": 8,
      "outputs": [
        {
          "output_type": "stream",
          "text": [
            "<class 'float'> <class 'float'> <class 'str'> <class 'bool'>\n"
          ],
          "name": "stdout"
        }
      ]
    },
    {
      "cell_type": "markdown",
      "metadata": {
        "id": "vSzmfhS9shiX"
      },
      "source": [
        "8    \n",
        "(dict應用)  \n",
        "(input輸入型別)  "
      ]
    },
    {
      "cell_type": "code",
      "metadata": {
        "colab": {
          "base_uri": "https://localhost:8080/"
        },
        "id": "8hFjm6qCsZq_",
        "outputId": "7d95cb52-1fa9-462a-aa16-6c1a635820a4"
      },
      "source": [
        "products = {1: '鉛筆', 2: '橡皮擦'}\n",
        "id=int(input('輸入產品編號：')) #題目少了int()))\n",
        "if not id in products:\n",
        "  print('該產品並不存在')\n",
        "else:\n",
        "  print(\"產品名稱為：\"+ products[id])"
      ],
      "execution_count": 9,
      "outputs": [
        {
          "output_type": "stream",
          "text": [
            "輸入產品編號：1\n",
            "產品名稱為：鉛筆\n"
          ],
          "name": "stdout"
        }
      ]
    },
    {
      "cell_type": "markdown",
      "metadata": {
        "id": "zWQnKZ5kuIMM"
      },
      "source": [
        "9  \n",
        "(變數型別)"
      ]
    },
    {
      "cell_type": "code",
      "metadata": {
        "colab": {
          "base_uri": "https://localhost:8080/"
        },
        "id": "LL08dVqztJ5P",
        "outputId": "6eab4711-f32d-4057-d2cb-1ff8e13ff44b"
      },
      "source": [
        "print(type(5))\n",
        "print(type(8.0))\n",
        "print(type(\"True\"))\n",
        "print(type(False))"
      ],
      "execution_count": 10,
      "outputs": [
        {
          "output_type": "stream",
          "text": [
            "<class 'int'>\n",
            "<class 'float'>\n",
            "<class 'str'>\n",
            "<class 'bool'>\n"
          ],
          "name": "stdout"
        }
      ]
    },
    {
      "cell_type": "markdown",
      "metadata": {
        "id": "PhM_HJfWugkc"
      },
      "source": [
        "10  \n",
        "(型別轉換應用)"
      ]
    },
    {
      "cell_type": "code",
      "metadata": {
        "colab": {
          "base_uri": "https://localhost:8080/"
        },
        "id": "fUnq5_equZCr",
        "outputId": "57ad2ebf-1fde-4579-c437-a43fddc364d2"
      },
      "source": [
        "#total = int(input(\"請輸入總數?\")) #原來程式會有錯誤\n",
        "total = eval(input(\"請輸入總數?\"))\n",
        "total = int(total)\n",
        "print(total, type(total))\n"
      ],
      "execution_count": 11,
      "outputs": [
        {
          "output_type": "stream",
          "text": [
            "請輸入總數?600\n",
            "600 <class 'int'>\n"
          ],
          "name": "stdout"
        }
      ]
    },
    {
      "cell_type": "markdown",
      "metadata": {
        "id": "3cfDRIBYwckm"
      },
      "source": [
        "11  \n"
      ]
    },
    {
      "cell_type": "code",
      "metadata": {
        "colab": {
          "base_uri": "https://localhost:8080/"
        },
        "id": "8pxCdK1au32x",
        "outputId": "d6c6c2c2-6ab0-4c0e-b850-dc165846b20f"
      },
      "source": [
        "def reverse_str(oStr):\n",
        "  reStr=\"\"\n",
        "  for index in range(len(oStr)-1, -1, -1): #(1)\n",
        "    reStr += oStr[index] #(2)\n",
        "  return reStr\n",
        "print(reverse_str(\"Madam I'm Adam\"))"
      ],
      "execution_count": 12,
      "outputs": [
        {
          "output_type": "stream",
          "text": [
            "madA m'I madaM\n"
          ],
          "name": "stdout"
        }
      ]
    },
    {
      "cell_type": "markdown",
      "metadata": {
        "id": "DaGiuN1qyie5"
      },
      "source": [
        "12  \n",
        "(型別轉換)"
      ]
    },
    {
      "cell_type": "code",
      "metadata": {
        "colab": {
          "base_uri": "https://localhost:8080/"
        },
        "id": "nghxkBHFxIEc",
        "outputId": "03a44ad2-09b5-42c2-f96d-f3cf6c24c3a5"
      },
      "source": [
        "time_start = input(\"早上上班時間是幾點?\")\n",
        "time_end = input(\"下午下班時間是幾點?\")\n",
        "print(\"本日上班時間：\"+ str(int(time_end)-int(time_start))+\"小時\")"
      ],
      "execution_count": 13,
      "outputs": [
        {
          "output_type": "stream",
          "text": [
            "早上上班時間是幾點?6\n",
            "下午下班時間是幾點?18\n",
            "本日上班時間：12小時\n"
          ],
          "name": "stdout"
        }
      ]
    },
    {
      "cell_type": "markdown",
      "metadata": {
        "id": "I2jRFBg6zNjW"
      },
      "source": [
        "13  \n",
        "(字串取值)"
      ]
    },
    {
      "cell_type": "code",
      "metadata": {
        "colab": {
          "base_uri": "https://localhost:8080/"
        },
        "id": "jGMdtgLqzGDY",
        "outputId": "8f12d5f4-526c-4208-8707-11f07f3dec9f"
      },
      "source": [
        "astr=\"abcdefghijklmnopqrstuvwxyz\"\n",
        "print(astr[5:20])\n",
        "print(astr[5:20:3])\n",
        "print(astr[20:5:-3])\n",
        "print(astr[::-3])\n",
        "print(astr[3:15:-1])"
      ],
      "execution_count": 14,
      "outputs": [
        {
          "output_type": "stream",
          "text": [
            "fghijklmnopqrst\n",
            "filor\n",
            "uroli\n",
            "zwtqnkheb\n",
            "\n"
          ],
          "name": "stdout"
        }
      ]
    },
    {
      "cell_type": "markdown",
      "metadata": {
        "id": "NxxGMhDw0MCV"
      },
      "source": [
        "14   \n",
        "(list取值)"
      ]
    },
    {
      "cell_type": "code",
      "metadata": {
        "colab": {
          "base_uri": "https://localhost:8080/"
        },
        "id": "3CFn9oyezsd1",
        "outputId": "5702f5a0-6427-439c-f6dd-ab98ce5be870"
      },
      "source": [
        "members=list(range(1,51))\n",
        "print(members)\n",
        "#print(member[-5:0])無法執行 #A\n",
        "print(members[0:-5]) #B\n",
        "#members[1:-5 無法執行 #C\n",
        "print(members[:-5]) #D\n",
        "print(members[1:5]) #E"
      ],
      "execution_count": 15,
      "outputs": [
        {
          "output_type": "stream",
          "text": [
            "[1, 2, 3, 4, 5, 6, 7, 8, 9, 10, 11, 12, 13, 14, 15, 16, 17, 18, 19, 20, 21, 22, 23, 24, 25, 26, 27, 28, 29, 30, 31, 32, 33, 34, 35, 36, 37, 38, 39, 40, 41, 42, 43, 44, 45, 46, 47, 48, 49, 50]\n",
            "[1, 2, 3, 4, 5, 6, 7, 8, 9, 10, 11, 12, 13, 14, 15, 16, 17, 18, 19, 20, 21, 22, 23, 24, 25, 26, 27, 28, 29, 30, 31, 32, 33, 34, 35, 36, 37, 38, 39, 40, 41, 42, 43, 44, 45]\n",
            "[1, 2, 3, 4, 5, 6, 7, 8, 9, 10, 11, 12, 13, 14, 15, 16, 17, 18, 19, 20, 21, 22, 23, 24, 25, 26, 27, 28, 29, 30, 31, 32, 33, 34, 35, 36, 37, 38, 39, 40, 41, 42, 43, 44, 45]\n",
            "[2, 3, 4, 5]\n"
          ],
          "name": "stdout"
        }
      ]
    },
    {
      "cell_type": "markdown",
      "metadata": {
        "id": "dNqWnsSvC1_3"
      },
      "source": [
        "15  \n",
        "(list取值)"
      ]
    },
    {
      "cell_type": "code",
      "metadata": {
        "id": "KhDCqHJ80Vfi",
        "colab": {
          "base_uri": "https://localhost:8080/"
        },
        "outputId": "a4b90ddf-b07d-4c1e-bddb-f9f169112f33"
      },
      "source": [
        "#本題要取出星期2,星期4,星期6\n",
        "weeks=[1,2,3,4,5,6,7]\n",
        "print(weeks[2:2])\n",
        "print(weeks[::2])\n",
        "print(weeks[1::2])\n",
        "print(weeks[1:2])"
      ],
      "execution_count": 16,
      "outputs": [
        {
          "output_type": "stream",
          "text": [
            "[]\n",
            "[1, 3, 5, 7]\n",
            "[2, 4, 6]\n",
            "[2]\n"
          ],
          "name": "stdout"
        }
      ]
    },
    {
      "cell_type": "markdown",
      "metadata": {
        "id": "q3VbJhxCDrl6"
      },
      "source": [
        "16  \n",
        "(算式表示)"
      ]
    },
    {
      "cell_type": "code",
      "metadata": {
        "colab": {
          "base_uri": "https://localhost:8080/"
        },
        "id": "BhSRPj2wDf7p",
        "outputId": "528c5812-ae99-419e-c90d-5c4b539bc02a"
      },
      "source": [
        "x=eval(input(\"輸入一個數字：\"))\n",
        "y=(x+7)**2\n",
        "print(y)"
      ],
      "execution_count": 17,
      "outputs": [
        {
          "output_type": "stream",
          "text": [
            "輸入一個數字：333\n",
            "115600\n"
          ],
          "name": "stdout"
        }
      ]
    },
    {
      "cell_type": "markdown",
      "metadata": {
        "id": "seJL190tEZK9"
      },
      "source": [
        "17  \n",
        "(not的應用)"
      ]
    },
    {
      "cell_type": "code",
      "metadata": {
        "colab": {
          "base_uri": "https://localhost:8080/"
        },
        "id": "94Tu8s7OEAVU",
        "outputId": "33aa2f7e-4a6d-4763-8428-5ac54e2f4d0c"
      },
      "source": [
        "def get_discount(kid, girl):\n",
        "  discount = 0.2\n",
        "  if not (kid or girl):\n",
        "    discount=0\n",
        "  return discount\n",
        "\n",
        "print(\"discount=\", get_discount(True,False))"
      ],
      "execution_count": 19,
      "outputs": [
        {
          "output_type": "stream",
          "text": [
            "discount= 0.2\n"
          ],
          "name": "stdout"
        }
      ]
    },
    {
      "cell_type": "markdown",
      "metadata": {
        "id": "UiGwr8abFk1F"
      },
      "source": [
        "18  \n",
        "(Bool的應用)"
      ]
    },
    {
      "cell_type": "code",
      "metadata": {
        "colab": {
          "base_uri": "https://localhost:8080/"
        },
        "id": "tZxDxjZJE9uk",
        "outputId": "d665c304-c32b-49de-fda0-00330de985ca"
      },
      "source": [
        "print(0 or 2)\n",
        "print(bool()) #轉換bool型態，沒參數回傳False\n",
        "print(None == None)\n",
        "print(-2<0<2)"
      ],
      "execution_count": 20,
      "outputs": [
        {
          "output_type": "stream",
          "text": [
            "2\n",
            "False\n",
            "True\n",
            "True\n"
          ],
          "name": "stdout"
        }
      ]
    },
    {
      "cell_type": "markdown",
      "metadata": {
        "id": "pgLf4fgpHKe2"
      },
      "source": [
        "19  \n",
        "(運算子優先順序)"
      ]
    },
    {
      "cell_type": "code",
      "metadata": {
        "colab": {
          "base_uri": "https://localhost:8080/"
        },
        "id": "E5HQDG69HWte",
        "outputId": "5240db8f-1321-4041-efbd-df6de4470f60"
      },
      "source": [
        "print((2*(3+4)**4-5+6/2))"
      ],
      "execution_count": 24,
      "outputs": [
        {
          "output_type": "stream",
          "text": [
            "4800.0\n"
          ],
          "name": "stdout"
        }
      ]
    },
    {
      "cell_type": "markdown",
      "metadata": {
        "id": "P2GLDjG7GF0Y"
      },
      "source": [
        "20  \n",
        "(變數應用)"
      ]
    },
    {
      "cell_type": "code",
      "metadata": {
        "colab": {
          "base_uri": "https://localhost:8080/"
        },
        "id": "kv3t5O8KFwLA",
        "outputId": "f16a3215-81e8-47b0-a82a-4516d2a1bc87"
      },
      "source": [
        "a='Apple'\n",
        "print(a)\n",
        "b='Banana'\n",
        "a+=b\n",
        "b=a\n",
        "print(a)\n",
        "print(b)"
      ],
      "execution_count": 22,
      "outputs": [
        {
          "output_type": "stream",
          "text": [
            "Apple\n",
            "AppleBanana\n",
            "AppleBanana\n"
          ],
          "name": "stdout"
        }
      ]
    },
    {
      "cell_type": "markdown",
      "metadata": {
        "id": "ckukVg_KGgfa"
      },
      "source": [
        "21  \n",
        "(運算子優先順序)"
      ]
    },
    {
      "cell_type": "code",
      "metadata": {
        "colab": {
          "base_uri": "https://localhost:8080/"
        },
        "id": "tPzWlWtcGein",
        "outputId": "15047384-9a99-442d-dd4a-d6c7c16b1466"
      },
      "source": [
        "def calc(a,b,c,d):\n",
        "  value=(a-b)/c+d\n",
        "  return value\n",
        "print(calc(1,1,1,2))"
      ],
      "execution_count": 25,
      "outputs": [
        {
          "output_type": "stream",
          "text": [
            "2.0\n"
          ],
          "name": "stdout"
        }
      ]
    },
    {
      "cell_type": "markdown",
      "metadata": {
        "id": "pvFU3UVXHBgK"
      },
      "source": [
        "22  \n",
        "(運算子優先順序)\n",
        "() > ** > +- > * / > + - > or"
      ]
    },
    {
      "cell_type": "markdown",
      "metadata": {
        "id": "ZQOaK0y7INuu"
      },
      "source": [
        "23  \n",
        "(for迴圈與if判斷式)"
      ]
    },
    {
      "cell_type": "code",
      "metadata": {
        "colab": {
          "base_uri": "https://localhost:8080/"
        },
        "id": "OoMEjtpfG_ba",
        "outputId": "c776c3bf-e4cd-46dc-b7d6-52f902cae941"
      },
      "source": [
        "def count_word(word, words_list):\n",
        "  count=0\n",
        "  for keyword in words_list:\n",
        "    if keyword == word:\n",
        "      count+=1\n",
        "  return count\n",
        "words_list=['i','am','a','boy','you','are','a','girl']\n",
        "word=input(\"你想要查詢哪個單字的數量?\")\n",
        "wtotal=count_word(word, words_list)\n",
        "print(\"在文章中一共有':\", wtotal,\"個單字\", word)\n"
      ],
      "execution_count": 29,
      "outputs": [
        {
          "output_type": "stream",
          "text": [
            "你想要查詢哪個單字的數量?am\n",
            "在文章中一共有': 1 個單字 am\n"
          ],
          "name": "stdout"
        }
      ]
    },
    {
      "cell_type": "markdown",
      "metadata": {
        "id": "LGDqx78RJieT"
      },
      "source": [
        "24  \n",
        "(if判斷式應用)"
      ]
    },
    {
      "cell_type": "code",
      "metadata": {
        "colab": {
          "base_uri": "https://localhost:8080/"
        },
        "id": "0uNQF_o4JSda",
        "outputId": "38213a49-d4b3-4659-ed59-ab749e499050"
      },
      "source": [
        "ontime=input(\"機車是在晚上10點前返還的嗎? y或n:\").lower() #轉小寫\n",
        "days_rented = int(input(\"機車出租了幾天?\"))\n",
        "day_rented = input(\"機車是在星期幾出租的?\").capitalize() #首字大寫\n",
        "cost_per_day = 500\n",
        "if ontime == 'n':\n",
        "  days_rented += 1\n",
        "if day_rented == 'Wednesday':\n",
        "  total = (days_rented * cost_per_day) * 0.9\n",
        "if day_rented == 'Saturday':\n",
        "  total = (days_rented * cost_per_day) * 0.8\n",
        "print(\"機車的租借費用為:$\", total)\n"
      ],
      "execution_count": 30,
      "outputs": [
        {
          "output_type": "stream",
          "text": [
            "機車是在晚上10點前返還的嗎? y或n:y\n",
            "機車出租了幾天?50\n",
            "機車是在星期幾出租的?2\n",
            "機車的租借費用為:$ 600\n"
          ],
          "name": "stdout"
        }
      ]
    },
    {
      "cell_type": "markdown",
      "metadata": {
        "id": "y3tv1ePULFLc"
      },
      "source": [
        "25  \n",
        "(if判斷式應用與None)"
      ]
    },
    {
      "cell_type": "code",
      "metadata": {
        "colab": {
          "base_uri": "https://localhost:8080/"
        },
        "id": "CsshwXq3K2ci",
        "outputId": "e4f0f4b5-9396-4d90-e1df-f32021cf3985"
      },
      "source": [
        "def do_times(n1,n2):\n",
        "  if (n1 is None or n2 is None):\n",
        "    return(\"你少填了被乘數與乘數\")\n",
        "  if (n1==0 or n2==0):\n",
        "    return(\"你的乘數或被乘數為0\")\n",
        "  else:\n",
        "    return n1*n2\n",
        "print(do_times(None,2))\n",
        "print(do_times(2,0))\n",
        "print(do_times(2,3))"
      ],
      "execution_count": 31,
      "outputs": [
        {
          "output_type": "stream",
          "text": [
            "你少填了被乘數與乘數\n",
            "你的乘數或被乘數為0\n",
            "6\n"
          ],
          "name": "stdout"
        }
      ]
    },
    {
      "cell_type": "markdown",
      "metadata": {
        "id": "KxT_xS-rMQie"
      },
      "source": [
        "26  \n",
        "(運算子應用)"
      ]
    },
    {
      "cell_type": "code",
      "metadata": {
        "colab": {
          "base_uri": "https://localhost:8080/"
        },
        "id": "VTv9mW4kMHpC",
        "outputId": "730aa970-967e-40c1-b90e-d67df9302c30"
      },
      "source": [
        "a=21\n",
        "b=5\n",
        "print(a/b)\n",
        "print(a//b)\n",
        "print(a%b)"
      ],
      "execution_count": 32,
      "outputs": [
        {
          "output_type": "stream",
          "text": [
            "4.2\n",
            "4\n",
            "1\n"
          ],
          "name": "stdout"
        }
      ]
    },
    {
      "cell_type": "markdown",
      "metadata": {
        "id": "xdGlFbqcMiCx"
      },
      "source": [
        "27  \n",
        "(while迴圈應用)"
      ]
    },
    {
      "cell_type": "code",
      "metadata": {
        "colab": {
          "base_uri": "https://localhost:8080/"
        },
        "id": "DJQ-fyvFMgee",
        "outputId": "9c4b0b80-e5ba-4c5d-d7cc-b1a470ac92f2"
      },
      "source": [
        "x=0\n",
        "while x<4:\n",
        "  if x//3 == 1:\n",
        "    print(\"Apple\")\n",
        "  elif x-2 == 0:\n",
        "    print(\"Banana\")\n",
        "  elif x%3 == 0:\n",
        "    print(\"Cherry\")\n",
        "  else:\n",
        "    print(\"Fruit\")\n",
        "  x=x+1\n"
      ],
      "execution_count": 33,
      "outputs": [
        {
          "output_type": "stream",
          "text": [
            "Cherry\n",
            "Fruit\n",
            "Banana\n",
            "Apple\n"
          ],
          "name": "stdout"
        }
      ]
    },
    {
      "cell_type": "markdown",
      "metadata": {
        "id": "UvIZoXN2Nhnf"
      },
      "source": [
        "28  \n",
        "(list應用)"
      ]
    },
    {
      "cell_type": "code",
      "metadata": {
        "colab": {
          "base_uri": "https://localhost:8080/"
        },
        "id": "dErnf4GkNP7Z",
        "outputId": "1486061a-5e1f-4f3c-d3aa-f580ee007a33"
      },
      "source": [
        "slist = ['a','b','c','d','e','f']\n",
        "print('f' in slist)"
      ],
      "execution_count": 34,
      "outputs": [
        {
          "output_type": "stream",
          "text": [
            "True\n"
          ],
          "name": "stdout"
        }
      ]
    },
    {
      "cell_type": "markdown",
      "metadata": {
        "id": "gFtfIucxN1WU"
      },
      "source": [
        "29  \n",
        "(==與is的應用)"
      ]
    },
    {
      "cell_type": "code",
      "metadata": {
        "colab": {
          "base_uri": "https://localhost:8080/"
        },
        "id": "qYBGKvsGNy3o",
        "outputId": "e33a0d08-75c4-43d5-9436-5ebec65dd963"
      },
      "source": [
        "aList = ['a','b','c','d','e']\n",
        "bList = [1,2,3,4,5]\n",
        "print(aList is bList)\n",
        "print(aList == bList)\n",
        "aList = [1,2,3,4,5]\n",
        "print(aList is bList)\n",
        "print(aList == bList)"
      ],
      "execution_count": 35,
      "outputs": [
        {
          "output_type": "stream",
          "text": [
            "False\n",
            "False\n",
            "False\n",
            "True\n"
          ],
          "name": "stdout"
        }
      ]
    },
    {
      "cell_type": "markdown",
      "metadata": {
        "id": "xNTrTNJAPvba"
      },
      "source": [
        "30  \n",
        "(if判斷式,==與!=的應用"
      ]
    },
    {
      "cell_type": "code",
      "metadata": {
        "colab": {
          "base_uri": "https://localhost:8080/"
        },
        "id": "Urr7JnbPOmfP",
        "outputId": "b54ad605-6680-42e5-9982-61b235964154"
      },
      "source": [
        "num=eval(input(\"請輸入小於100, 大於或等於50的數字：\"))\n",
        "if num < 100:\n",
        "  if num >= 50:\n",
        "    if num == 50: #原來的=是指定值\n",
        "      print('數字等於50')\n",
        "    else:\n",
        "      print('數字在範圍內')\n",
        "  else:\n",
        "    print('數字小於50')\n",
        "elif num != 100: #原來的<>是錯的\n",
        "  print('數字大於100')\n",
        "else:\n",
        "  print('數字等於100')"
      ],
      "execution_count": 36,
      "outputs": [
        {
          "output_type": "stream",
          "text": [
            "請輸入小於100, 大於或等於50的數字：40\n",
            "數字小於50\n"
          ],
          "name": "stdout"
        }
      ]
    },
    {
      "cell_type": "markdown",
      "metadata": {
        "id": "IfuEPQI3Qt-e"
      },
      "source": [
        "31  \n",
        "(if elif else判斷式應用)"
      ]
    },
    {
      "cell_type": "code",
      "metadata": {
        "colab": {
          "base_uri": "https://localhost:8080/"
        },
        "id": "bipWx6GzQnCY",
        "outputId": "0761d3f4-9f4e-4d07-9bdd-6d81b2d04229"
      },
      "source": [
        "grade = int(input(\"請輸入分數：\"))\n",
        "if grade >= 90:\n",
        "  letter_grade = 'A'\n",
        "elif grade >= 80:\n",
        "  letter_grade = 'B'\n",
        "elif grade >= 70:\n",
        "  letter_grade = 'C'\n",
        "elif grade >= 60:\n",
        "  letter_grade = 'D'\n",
        "else:\n",
        "  letter_grade = 'E'\n",
        "print(\"你的等級為：\", letter_grade)"
      ],
      "execution_count": 37,
      "outputs": [
        {
          "output_type": "stream",
          "text": [
            "請輸入分數：77\n",
            "你的等級為： C\n"
          ],
          "name": "stdout"
        }
      ]
    },
    {
      "cell_type": "markdown",
      "metadata": {
        "id": "P0g2kfRMR8yD"
      },
      "source": [
        "33  \n",
        "(if判斷式,邏輯與縮牌位置應用)"
      ]
    },
    {
      "cell_type": "code",
      "metadata": {
        "colab": {
          "base_uri": "https://localhost:8080/"
        },
        "id": "baBm05bQRoxe",
        "outputId": "dee0a1ea-9bf5-4ffe-c5e0-833b4ce89ccd"
      },
      "source": [
        "def reResult(a):\n",
        "  if a>0:\n",
        "    answer=\"值是正數\"\n",
        "  else:\n",
        "    if a<0 :\n",
        "      answer=\"值是負數\"\n",
        "    else:\n",
        "      answer=\"值是零\"\n",
        "  return answer\n",
        "\n",
        "print(reResult(2))\n",
        "print(reResult(-2))\n",
        "print(reResult(0))"
      ],
      "execution_count": 38,
      "outputs": [
        {
          "output_type": "stream",
          "text": [
            "值是正數\n",
            "值是負數\n",
            "值是零\n"
          ],
          "name": "stdout"
        }
      ]
    },
    {
      "cell_type": "markdown",
      "metadata": {
        "id": "m1zum7G7TOxC"
      },
      "source": [
        "34  \n",
        "(if判斷式應用)"
      ]
    },
    {
      "cell_type": "code",
      "metadata": {
        "colab": {
          "base_uri": "https://localhost:8080/"
        },
        "id": "6FBQaHbPS-bu",
        "outputId": "e448f538-d20b-44c5-b02d-aecbb2fc8999"
      },
      "source": [
        "def ticket_fee(age,school):\n",
        "  fee=0\n",
        "  if age>=5 and school==True:\n",
        "    fee=150\n",
        "  if age>=5 and school==False:\n",
        "    if age <= 17:\n",
        "      fee=200\n",
        "    else:\n",
        "      fee=300\n",
        "  return fee\n",
        "\n",
        "print(ticket_fee(3, False))\n",
        "print(ticket_fee(10, True))\n",
        "print(ticket_fee(10, False))\n",
        "print(ticket_fee(20, False))"
      ],
      "execution_count": 39,
      "outputs": [
        {
          "output_type": "stream",
          "text": [
            "0\n",
            "150\n",
            "200\n",
            "300\n"
          ],
          "name": "stdout"
        }
      ]
    },
    {
      "cell_type": "markdown",
      "metadata": {
        "id": "QUsPkFBkUuRk"
      },
      "source": [
        "35  \n",
        "(if判斷式應用)"
      ]
    },
    {
      "cell_type": "code",
      "metadata": {
        "colab": {
          "base_uri": "https://localhost:8080/"
        },
        "id": "9e_EsAXhUtYc",
        "outputId": "9c697a34-ddd7-4ec0-e9a9-e05b743e5bd8"
      },
      "source": [
        "def is_digit(n):\n",
        "  try:\n",
        "    int(n)\n",
        "    return True\n",
        "  except ValueError:\n",
        "    return False\n",
        "num=input(\"請輸入一個正整數:\")\n",
        "if is_digit(num) and int(num)>0:\n",
        "  num=int(eval(num))\n",
        "  if num<10:\n",
        "    digits=\"1\"\n",
        "  elif num<100:\n",
        "    digits=\"2\"\n",
        "  else:\n",
        "    digits=\">2\"\n",
        "  print(digits + \"位數.\")\n",
        "else:\n",
        "  print(\"輸入值並不是數值或正整數\")"
      ],
      "execution_count": 40,
      "outputs": [
        {
          "output_type": "stream",
          "text": [
            "請輸入一個正整數:20\n",
            "2位數.\n"
          ],
          "name": "stdout"
        }
      ]
    },
    {
      "cell_type": "markdown",
      "metadata": {
        "id": "K_RGoT06V7vM"
      },
      "source": [
        "36  \n",
        "(for迴圈應用與break, contine)"
      ]
    },
    {
      "cell_type": "code",
      "metadata": {
        "colab": {
          "base_uri": "https://localhost:8080/"
        },
        "id": "Hn4OdMCRUnNg",
        "outputId": "4df370b1-b31e-4cfc-cd28-90efa93c9077"
      },
      "source": [
        "from random import randint\n",
        "answer=randint(1,100) #1~99\n",
        "print(\"猜一個從1到100的整數.你將有3次機會.\")\n",
        "print(answer)\n",
        "for i in range(3):\n",
        "  guess=int(input(\"請輸入一個整數：\"))\n",
        "  if guess > answer:\n",
        "    print(\"數字太大了，猜低一點\")\n",
        "  elif guess < answer:\n",
        "    print(\"數字太小了，猜高一點\")\n",
        "  else:\n",
        "    print(\"猜對了!\")\n",
        "print(\"終極密碼是\", answer)\n"
      ],
      "execution_count": 41,
      "outputs": [
        {
          "output_type": "stream",
          "text": [
            "猜一個從1到100的整數.你將有3次機會.\n",
            "24\n",
            "請輸入一個整數：22\n",
            "數字太小了，猜高一點\n",
            "請輸入一個整數：23\n",
            "數字太小了，猜高一點\n",
            "請輸入一個整數：24\n",
            "猜對了!\n",
            "終極密碼是 24\n"
          ],
          "name": "stdout"
        }
      ]
    },
    {
      "cell_type": "markdown",
      "metadata": {
        "id": "awKgp70TXjl6"
      },
      "source": [
        "37  \n",
        "(if判斷式應用)"
      ]
    },
    {
      "cell_type": "code",
      "metadata": {
        "colab": {
          "base_uri": "https://localhost:8080/"
        },
        "id": "oOnxXDYhXCwt",
        "outputId": "607e6c2a-f781-40fd-f462-709d69892adf"
      },
      "source": [
        "from random import randint\n",
        "num=randint(1,100)\n",
        "if num % 2 == 0:\n",
        "  print(\"%d是偶數\" % num) # %後填入要在字串顯示的值\n",
        "else:\n",
        "  print(\"%d是奇數\" % num)\n"
      ],
      "execution_count": 42,
      "outputs": [
        {
          "output_type": "stream",
          "text": [
            "39是奇數\n"
          ],
          "name": "stdout"
        }
      ]
    },
    {
      "cell_type": "markdown",
      "metadata": {
        "id": "UjdT9sEOYdbC"
      },
      "source": [
        "38  \n",
        "(程式結構重組)"
      ]
    },
    {
      "cell_type": "code",
      "metadata": {
        "colab": {
          "base_uri": "https://localhost:8080/"
        },
        "id": "PjWrWfV-X7eM",
        "outputId": "8d444b15-f70f-45fa-bd0f-35fe2d4437f0"
      },
      "source": [
        "en_name=input(\"請輸入英文姓名：\")\n",
        "if en_name.upper() == en_name:\n",
        "  print(en_name, \"是全部大寫.\")\n",
        "elif en_name.lower() == en_name:\n",
        "  print(en_name, \"是全部小寫.\")\n",
        "else:\n",
        "  print(en_name, \"是大小寫混合.\")"
      ],
      "execution_count": 45,
      "outputs": [
        {
          "output_type": "stream",
          "text": [
            "請輸入英文姓名：TCSD\n",
            "TCSD 是全部大寫.\n"
          ],
          "name": "stdout"
        }
      ]
    },
    {
      "cell_type": "markdown",
      "metadata": {
        "id": "s-Ec8e7QZizz"
      },
      "source": [
        "39  \n",
        "(for迴圈與continue)"
      ]
    },
    {
      "cell_type": "code",
      "metadata": {
        "colab": {
          "base_uri": "https://localhost:8080/"
        },
        "id": "X5n-_JU7ZQr_",
        "outputId": "363ebfd8-9afd-47c0-c207-81d4b7e1d428"
      },
      "source": [
        "salaryList=[10000, 24000, 30000, 5000, 14000]\n",
        "for index in range(len(salaryList)): #答案有錯\n",
        "  if salaryList[index]>15000:\n",
        "    continue #continue直接進入下一個迴圈，不執行接下來的命令\n",
        "  salaryList[index]=18000+2000\n",
        "print(salaryList)"
      ],
      "execution_count": 46,
      "outputs": [
        {
          "output_type": "stream",
          "text": [
            "[20000, 24000, 30000, 20000, 20000]\n"
          ],
          "name": "stdout"
        }
      ]
    },
    {
      "cell_type": "markdown",
      "metadata": {
        "id": "yR5oal_5alAa"
      },
      "source": [
        "40  \n",
        "(range應用)\n",
        "(答案選項錯誤)"
      ]
    },
    {
      "cell_type": "code",
      "metadata": {
        "colab": {
          "base_uri": "https://localhost:8080/"
        },
        "id": "Mb21NRClaI94",
        "outputId": "fa74176e-294f-4edf-f3f1-2898c1e539e8"
      },
      "source": [
        "def show_99(): \n",
        "  for x in range(1,10):\n",
        "    for y in range(1,10):\n",
        "      print(\"{}*{}={}\".format(x,y,x*y))\n",
        "    print() #空白行\n",
        "show_99()"
      ],
      "execution_count": 47,
      "outputs": [
        {
          "output_type": "stream",
          "text": [
            "1*1=1\n",
            "1*2=2\n",
            "1*3=3\n",
            "1*4=4\n",
            "1*5=5\n",
            "1*6=6\n",
            "1*7=7\n",
            "1*8=8\n",
            "1*9=9\n",
            "\n",
            "2*1=2\n",
            "2*2=4\n",
            "2*3=6\n",
            "2*4=8\n",
            "2*5=10\n",
            "2*6=12\n",
            "2*7=14\n",
            "2*8=16\n",
            "2*9=18\n",
            "\n",
            "3*1=3\n",
            "3*2=6\n",
            "3*3=9\n",
            "3*4=12\n",
            "3*5=15\n",
            "3*6=18\n",
            "3*7=21\n",
            "3*8=24\n",
            "3*9=27\n",
            "\n",
            "4*1=4\n",
            "4*2=8\n",
            "4*3=12\n",
            "4*4=16\n",
            "4*5=20\n",
            "4*6=24\n",
            "4*7=28\n",
            "4*8=32\n",
            "4*9=36\n",
            "\n",
            "5*1=5\n",
            "5*2=10\n",
            "5*3=15\n",
            "5*4=20\n",
            "5*5=25\n",
            "5*6=30\n",
            "5*7=35\n",
            "5*8=40\n",
            "5*9=45\n",
            "\n",
            "6*1=6\n",
            "6*2=12\n",
            "6*3=18\n",
            "6*4=24\n",
            "6*5=30\n",
            "6*6=36\n",
            "6*7=42\n",
            "6*8=48\n",
            "6*9=54\n",
            "\n",
            "7*1=7\n",
            "7*2=14\n",
            "7*3=21\n",
            "7*4=28\n",
            "7*5=35\n",
            "7*6=42\n",
            "7*7=49\n",
            "7*8=56\n",
            "7*9=63\n",
            "\n",
            "8*1=8\n",
            "8*2=16\n",
            "8*3=24\n",
            "8*4=32\n",
            "8*5=40\n",
            "8*6=48\n",
            "8*7=56\n",
            "8*8=64\n",
            "8*9=72\n",
            "\n",
            "9*1=9\n",
            "9*2=18\n",
            "9*3=27\n",
            "9*4=36\n",
            "9*5=45\n",
            "9*6=54\n",
            "9*7=63\n",
            "9*8=72\n",
            "9*9=81\n",
            "\n"
          ],
          "name": "stdout"
        }
      ]
    },
    {
      "cell_type": "markdown",
      "metadata": {
        "id": "DH8mtZ0hcJbe"
      },
      "source": [
        "41  \n",
        "(程式結構重組)"
      ]
    },
    {
      "cell_type": "code",
      "metadata": {
        "colab": {
          "base_uri": "https://localhost:8080/"
        },
        "id": "zUVpAYuubaf-",
        "outputId": "f0a7b623-47e1-42e1-a83b-246dc624db6e"
      },
      "source": [
        "n=2\n",
        "while n<=50:\n",
        "  is_prime=True\n",
        "  for i in range(2,n):\n",
        "    if n % i ==0:\n",
        "      is_prime=False\n",
        "      break\n",
        "  if is_prime==True:\n",
        "    print(n) #p是錯誤的\n",
        "  n+=1"
      ],
      "execution_count": 48,
      "outputs": [
        {
          "output_type": "stream",
          "text": [
            "2\n",
            "3\n",
            "5\n",
            "7\n",
            "11\n",
            "13\n",
            "17\n",
            "19\n",
            "23\n",
            "29\n",
            "31\n",
            "37\n",
            "41\n",
            "43\n",
            "47\n"
          ],
          "name": "stdout"
        }
      ]
    },
    {
      "cell_type": "markdown",
      "metadata": {
        "id": "jTLquGY2evu-"
      },
      "source": [
        "42  \n",
        "(程式結構重組)"
      ]
    },
    {
      "cell_type": "code",
      "metadata": {
        "colab": {
          "base_uri": "https://localhost:8080/"
        },
        "id": "aTRmxBrXdMnu",
        "outputId": "6c0843e7-c31e-4047-a510-381d0c639e6c"
      },
      "source": [
        "def Whoisbigger(numberList, number): #少了def\n",
        "  for i in range(len(numberList)):\n",
        "    if numberList[i] > number:\n",
        "      print(\"{0}清單中找到比{1}大的值\".format(numberList,number))\n",
        "      break\n",
        "    else:\n",
        "      print(\"{0}清單中找不到比{1}大的值\".format(numberList,number))\n",
        "Whoisbigger([1,2,3,4,5,6], 3)"
      ],
      "execution_count": 49,
      "outputs": [
        {
          "output_type": "stream",
          "text": [
            "[1, 2, 3, 4, 5, 6]清單中找不到比3大的值\n",
            "[1, 2, 3, 4, 5, 6]清單中找不到比3大的值\n",
            "[1, 2, 3, 4, 5, 6]清單中找不到比3大的值\n",
            "[1, 2, 3, 4, 5, 6]清單中找到比3大的值\n"
          ],
          "name": "stdout"
        }
      ]
    },
    {
      "cell_type": "markdown",
      "metadata": {
        "id": "2mMsdMyVhK18"
      },
      "source": [
        "43  \n",
        "(while迴圈應用)"
      ]
    },
    {
      "cell_type": "code",
      "metadata": {
        "colab": {
          "base_uri": "https://localhost:8080/"
        },
        "id": "9ai6dOtTfwfV",
        "outputId": "ac954774-2f1a-403e-f3f4-2563d87fc6a2"
      },
      "source": [
        "p_no=\"flag\" #第一次進入while使用，任何非空值之字串皆可以\n",
        "group=\"\"\n",
        "while p_no != \"\": #不輸入值即可跳開\n",
        "  valid=False\n",
        "  p_no=input(\"請輸入產品編號(dddd-dd):\")\n",
        "  group=p_no.split('-')\n",
        "  if len(group)==2: #group被-分開成2群\n",
        "    if len(group[0])==4 and len(group[1])==2:\n",
        "      if group[0].isdigit() and group[1].isdigit():\n",
        "        valid=True\n",
        "  print(valid)"
      ],
      "execution_count": 90,
      "outputs": [
        {
          "output_type": "stream",
          "text": [
            "請輸入產品編號(dddd-dd):600-2\n",
            "False\n",
            "請輸入產品編號(dddd-dd):4444-55\n",
            "True\n",
            "請輸入產品編號(dddd-dd):30-5555\n",
            "False\n",
            "請輸入產品編號(dddd-dd):20-600\n",
            "False\n",
            "請輸入產品編號(dddd-dd):\n",
            "False\n"
          ],
          "name": "stdout"
        }
      ]
    },
    {
      "cell_type": "markdown",
      "metadata": {
        "id": "FzO08ATPiyPh"
      },
      "source": [
        "44  \n",
        "(while迴圈應用)"
      ]
    },
    {
      "cell_type": "code",
      "metadata": {
        "colab": {
          "base_uri": "https://localhost:8080/"
        },
        "id": "ydsjPl9jiPjj",
        "outputId": "d7270d31-8e2a-4d2b-9a59-237412f19ba1"
      },
      "source": [
        "numList=range(10) #[0,1,2,3,4,5,6,7,8,9]\n",
        "num=0\n",
        "while (num<10):\n",
        "  print(numList[num])\n",
        "  if numList[num] == 8:\n",
        "    break\n",
        "  else:\n",
        "    num +=1"
      ],
      "execution_count": 51,
      "outputs": [
        {
          "output_type": "stream",
          "text": [
            "0\n",
            "1\n",
            "2\n",
            "3\n",
            "4\n",
            "5\n",
            "6\n",
            "7\n",
            "8\n"
          ],
          "name": "stdout"
        }
      ]
    },
    {
      "cell_type": "markdown",
      "metadata": {
        "id": "h0PkWo__jxyL"
      },
      "source": [
        "45  \n",
        "(os開檔、寫檔)"
      ]
    },
    {
      "cell_type": "code",
      "metadata": {
        "colab": {
          "base_uri": "https://localhost:8080/"
        },
        "id": "fDSK-vz4jMdm",
        "outputId": "6cd6068a-99b0-44a6-9448-61e4ee6b4d2f"
      },
      "source": [
        "import os\n",
        "if os.path.isfile('usefile.txt'):\n",
        "  file=open('usefile.txt')\n",
        "  print(file.read())\n",
        "  file.close()\n",
        "else: #題目少了這一行\n",
        "  file=open('usefile.txt','a') #a是新增檔案, a+是附加檔案\n",
        "  file.write('這是檔尾')\n",
        "  file.close"
      ],
      "execution_count": 57,
      "outputs": [
        {
          "output_type": "stream",
          "text": [
            "這是檔尾\n"
          ],
          "name": "stdout"
        }
      ]
    },
    {
      "cell_type": "markdown",
      "metadata": {
        "id": "t09swWsIlDty"
      },
      "source": [
        "46  \n",
        "(os開檔)"
      ]
    },
    {
      "cell_type": "code",
      "metadata": {
        "colab": {
          "base_uri": "https://localhost:8080/",
          "height": 35
        },
        "id": "ezdWuI-gj5ti",
        "outputId": "fec3c6cf-7ca4-4f35-e0e0-444b48a864ae"
      },
      "source": [
        "import os\n",
        "def get_file_content(usefile):\n",
        "  if os.path.isfile(usefile):\n",
        "    with open(usefile, 'r') as file:\n",
        "      return file.read() #題目usefle.read()是錯誤的\n",
        "  else:\n",
        "    return \"檔案不存在\"\n",
        "\n",
        "get_file_content(\"usefile.txt\")"
      ],
      "execution_count": 58,
      "outputs": [
        {
          "output_type": "execute_result",
          "data": {
            "application/vnd.google.colaboratory.intrinsic+json": {
              "type": "string"
            },
            "text/plain": [
              "'這是檔尾'"
            ]
          },
          "metadata": {
            "tags": []
          },
          "execution_count": 58
        }
      ]
    },
    {
      "cell_type": "markdown",
      "metadata": {
        "id": "wmCo5zcKl5op"
      },
      "source": [
        "47  \n",
        "(開檔屬性應用)\n",
        "(r:讀取, a:附加, w:寫入)\n",
        "(r+:除了讀取，還有寫入功能，檔案不存在會回傳error)\n",
        "(a+:除了附加,還有讀取功能)\n",
        "(w+:除了寫入,還有讀取功能,和r+不同處在於檔案不存在會新增一個檔)"
      ]
    },
    {
      "cell_type": "markdown",
      "metadata": {
        "id": "6Xl_j336oxXW"
      },
      "source": [
        "48  \n",
        "(開檔讀資料)\n",
        "(需新增一個staffs.txt檔案)"
      ]
    },
    {
      "cell_type": "code",
      "metadata": {
        "colab": {
          "base_uri": "https://localhost:8080/"
        },
        "id": "giavlzJKlpyp",
        "outputId": "c91eaf88-6f4e-4c1f-9d4b-21be58478520"
      },
      "source": [
        "import os #題目忘了這行\n",
        "staffs = open(\"staffs.txt\", 'r')\n",
        "eof=False\n",
        "while eof==False:\n",
        "  line=staffs.readline()\n",
        "  if line != '':\n",
        "    if line != \"\\n\":\n",
        "      print(line.strip()) #strip()去除頭尾空白\n",
        "  else:\n",
        "    print(\"檔案結束\")\n",
        "    eof=True\n",
        "staffs.close()"
      ],
      "execution_count": 59,
      "outputs": [
        {
          "output_type": "stream",
          "text": [
            "1.'Sales',1,'John'\n",
            "2.'Sales',2,'Mary'\n",
            "檔案結束\n"
          ],
          "name": "stdout"
        }
      ]
    },
    {
      "cell_type": "markdown",
      "metadata": {
        "id": "zDS8Z9EsrPVT"
      },
      "source": [
        "49  \n",
        "(input與格式應用)"
      ]
    },
    {
      "cell_type": "code",
      "metadata": {
        "colab": {
          "base_uri": "https://localhost:8080/"
        },
        "id": "i_s-BThhp5ud",
        "outputId": "ab6774c5-d137-4318-c2d1-3e9e4eb6fd0b"
      },
      "source": [
        "star=star_count=star_done=0\n",
        "star_average=0.0\n",
        "while (star_done!=-1):\n",
        "  star_rating=float(input(\"請輸入評等(1-5),完成請輸入-1：\")) #題目star拼錯\n",
        "  if star_rating == -1:\n",
        "    break\n",
        "  star += star_rating\n",
        "  star_count += 1\n",
        "star_average = float(star/star_count)\n",
        "print(\"餐廳的平均星等是：{}\".format(star_average, '.2f')) #少了{},format少了一個."
      ],
      "execution_count": 60,
      "outputs": [
        {
          "output_type": "stream",
          "text": [
            "請輸入評等(1-5),完成請輸入-1：5\n",
            "請輸入評等(1-5),完成請輸入-1：5\n",
            "請輸入評等(1-5),完成請輸入-1：4\n",
            "請輸入評等(1-5),完成請輸入-1：-1\n",
            "餐廳的平均星等是：4.666666666666667\n"
          ],
          "name": "stdout"
        }
      ]
    },
    {
      "cell_type": "markdown",
      "metadata": {
        "id": "fyFBSg_duG55"
      },
      "source": [
        "50   \n",
        "(datetime fomat格式應用)  \n",
        "%a  : 星期縮寫 *　　　　　(Mon)  \n",
        "%A  : 星期全寫 *　　　　　(Monday)  \n",
        "%w  : 星期數字  　　　　　(0 … 6)  \n",
        "%d  : 日期  　　　　　　　(01 … 31)  \n",
        "%b  : 月份縮寫 *　　　　　(Jan)  \n",
        "%B  : 月份全寫 *　　　　　(January)  \n",
        "%m  : 月份數字  　　　　　(01 … 12)  \n",
        "%y  : 西元年二位數字  　　(00 … 99)  \n",
        "%Y  : 西元年  　　　　　　(1970 … 2018)  \n",
        "%H  : 24小時制  　　　　　(00 … 23)  \n",
        "%I  : 12小時制  　　　　　(01 … 12)  \n",
        "%p  : AM 或 PM *  \n",
        "%M  : 分  　　　　　　　　(00 … 59)  \n",
        "%S  : 秒  　　　　　　　　(00 … 59)  \n",
        "%f  : 微秒，六位數字  　　(000000 … 999999)  \n",
        "%c  : 日期和時間 *　　　　(Tue Aug 16 21:30:00 2017)  \n",
        "%x  : 日期 *　　　　　　　(08/16/2017)  \n",
        "%X  : 時間 *　　　　　　　(21:30:00)  "
      ]
    },
    {
      "cell_type": "code",
      "metadata": {
        "colab": {
          "base_uri": "https://localhost:8080/"
        },
        "id": "xssoIGuUswGG",
        "outputId": "ea4b3049-2ae4-4d5c-8e54-52e65327d1f3"
      },
      "source": [
        "import datetime\n",
        "data=datetime.datetime(2019,5,16)\n",
        "print(data)\n",
        "print('{:%y-%m-%d}'.format(data)) #%y兩位數 %Y四位數 \n",
        "num=12345.6789\n",
        "print('{:,.2f}'.format(num)) # :特殊格式化符號 ,三位數加一個逗號 .2f:兩位小數點"
      ],
      "execution_count": 61,
      "outputs": [
        {
          "output_type": "stream",
          "text": [
            "2019-05-16 00:00:00\n",
            "19-05-16\n",
            "12,345.68\n"
          ],
          "name": "stdout"
        }
      ]
    },
    {
      "cell_type": "markdown",
      "metadata": {
        "id": "stejD2X-Buuk"
      },
      "source": [
        "51  \n",
        "(列印格式化)"
      ]
    },
    {
      "cell_type": "code",
      "metadata": {
        "id": "RBJeNQbSueVO",
        "colab": {
          "base_uri": "https://localhost:8080/"
        },
        "outputId": "f3347a18-ad73-4298-b94a-f81fa8164a68"
      },
      "source": [
        "name=input(\"請輸入姓名：\")\n",
        "sum=score=count=0\n",
        "while (score != -1):\n",
        "  score=int(input(\"輸入你的分數(輸入-1結束程式：\"))\n",
        "  if score == -1:\n",
        "    break\n",
        "  sum += score\n",
        "  count += 1\n",
        "average=sum/count\n",
        "print(\"%-10s, 你的平均分數是: %7.3f\" %(name,average)) #正號(+)靠右對齊,負號(-)靠左對期,10s代表字串長度最長為10,7.3f代表總寬度是7,整數位數是3,小數點是1,小數點後位數是3"
      ],
      "execution_count": 62,
      "outputs": [
        {
          "output_type": "stream",
          "text": [
            "請輸入姓名：ret\n",
            "輸入你的分數(輸入-1結束程式：50\n",
            "輸入你的分數(輸入-1結束程式：105\n",
            "輸入你的分數(輸入-1結束程式：60\n",
            "輸入你的分數(輸入-1結束程式：35\n",
            "輸入你的分數(輸入-1結束程式：-1\n",
            "ret       , 你的平均分數是:  62.500\n"
          ],
          "name": "stdout"
        }
      ]
    },
    {
      "cell_type": "markdown",
      "metadata": {
        "id": "A_NA9_OVGiSa"
      },
      "source": [
        "52  \n",
        "(開檔列印格式化)  \n",
        "(需新增staff.txt,資料用,分開)"
      ]
    },
    {
      "cell_type": "code",
      "metadata": {
        "colab": {
          "base_uri": "https://localhost:8080/"
        },
        "id": "wmW0ZN2YCfB6",
        "outputId": "63dd8482-5ead-4eb1-c95c-56c976eec496"
      },
      "source": [
        "import os #少了這行\n",
        "def print_cartable(file):\n",
        "  data=open(file,'r')\n",
        "  for record in data:\n",
        "    fields=record.split(\",\")\n",
        "    print(\"{0:10} {1:5.1f} {2:7.2f}\".format(fields[0], eval(fields[1]),eval(fields[2]))) #0,1,2代表後面哪一筆資料\n",
        "print_cartable(\"staffs.txt\")"
      ],
      "execution_count": 66,
      "outputs": [
        {
          "output_type": "stream",
          "text": [
            "Acar         2.0   60.00\n",
            "Bcar         1.5   80.00\n",
            "Ccar         2.5  120.00\n"
          ],
          "name": "stdout"
        }
      ]
    },
    {
      "cell_type": "markdown",
      "metadata": {
        "id": "Ik7AM5w1JZav"
      },
      "source": [
        "53  \n",
        "(列印格式化)  "
      ]
    },
    {
      "cell_type": "code",
      "metadata": {
        "colab": {
          "base_uri": "https://localhost:8080/"
        },
        "id": "PsCBwqpuIWd4",
        "outputId": "66cc1333-8598-4342-bb81-a4ffec529ea6"
      },
      "source": [
        "p_name=input(\"輸入名稱：\")\n",
        "p_qty=input(\"輸入數量：\")\n",
        "print('\"{0}\",{1}'.format(p_name,p_qty)) #format寫法\n",
        "print('\"'+ p_name + '\",' + p_qty) #字串相加+\n",
        "print('\"%s\",%s' % (p_name, p_qty)) #舊式%寫法\n",
        "print(\"{0},{1}\".format(p_name,p_qty)) #少了\"\n"
      ],
      "execution_count": 67,
      "outputs": [
        {
          "output_type": "stream",
          "text": [
            "輸入名稱：wot\n",
            "輸入數量：200\n",
            "\"wot\",200\n",
            "\"wot\",200\n",
            "\"wot\",200\n",
            "wot,200\n"
          ],
          "name": "stdout"
        }
      ]
    },
    {
      "cell_type": "markdown",
      "metadata": {
        "id": "Hf7XaJG1KlWr"
      },
      "source": [
        "54  \n",
        "(input應用)  "
      ]
    },
    {
      "cell_type": "code",
      "metadata": {
        "colab": {
          "base_uri": "https://localhost:8080/"
        },
        "id": "ZtdJxg9JKcP-",
        "outputId": "07155824-bec1-48dc-f170-f067e4509c08"
      },
      "source": [
        "print(\"請輸入年齡：\")\n",
        "user_age=input()\n",
        "print(user_age)"
      ],
      "execution_count": 68,
      "outputs": [
        {
          "output_type": "stream",
          "text": [
            "請輸入年齡：\n",
            "18\n",
            "18\n"
          ],
          "name": "stdout"
        }
      ]
    },
    {
      "cell_type": "markdown",
      "metadata": {
        "id": "KJgMVMX3K-kZ"
      },
      "source": [
        "55  \n",
        "(註解#)"
      ]
    },
    {
      "cell_type": "code",
      "metadata": {
        "id": "hL-50A8CK7uD"
      },
      "source": [
        "def get_pname():\n",
        "  #顯示商品名稱\n",
        "  return pname"
      ],
      "execution_count": 70,
      "outputs": []
    },
    {
      "cell_type": "markdown",
      "metadata": {
        "id": "cC4gqvAkLXxL"
      },
      "source": [
        "56  \n",
        "(註解#)"
      ]
    },
    {
      "cell_type": "markdown",
      "metadata": {
        "id": "3ZqQnq08LdOx"
      },
      "source": [
        "57  \n",
        "(字串內的#號)"
      ]
    },
    {
      "cell_type": "code",
      "metadata": {
        "id": "Ijkr_btyLWPp"
      },
      "source": [
        "#calc_times函式計算二數乘積\n",
        "#x是被乘數\n",
        "#y是乘數\n",
        "#返回x*y的值\n",
        "def cal_times(x,y):\n",
        "  comment=\"#返回值\"  #前面的#會被當作字串\n",
        "  return x*y  #x*y"
      ],
      "execution_count": 72,
      "outputs": []
    },
    {
      "cell_type": "markdown",
      "metadata": {
        "id": "ICTc4dhmMLRo"
      },
      "source": [
        "58  \n",
        "(函式應用)"
      ]
    },
    {
      "cell_type": "code",
      "metadata": {
        "colab": {
          "base_uri": "https://localhost:8080/"
        },
        "id": "jsy9TgpTMKA6",
        "outputId": "bad187c7-8bd9-4958-c222-da2d88a842c2"
      },
      "source": [
        "def get_name():\n",
        "  name=input(\"請輸入你的姓名：\")\n",
        "  return name\n",
        "def calc_calories(km,cpk):\n",
        "  calories=km*cpk\n",
        "  return calories\n",
        "distance = int(input(\"請問你騎了幾公里?\"))\n",
        "burn_rate=50\n",
        "biker=get_name()\n",
        "calories_burned=calc_calories(distance, burn_rate)\n",
        "print(biker,\",你燃燒了大約\", calories_burned,\"卡路里\")"
      ],
      "execution_count": 73,
      "outputs": [
        {
          "output_type": "stream",
          "text": [
            "請問你騎了幾公里?10\n",
            "請輸入你的姓名：ton\n",
            "ton ,你燃燒了大約 500 卡路里\n"
          ],
          "name": "stdout"
        }
      ]
    },
    {
      "cell_type": "markdown",
      "metadata": {
        "id": "XGIBK0kWNjM5"
      },
      "source": [
        "59  \n",
        "(參數預設值應用)  \n",
        "(本題沒有題號，答案應該是A)"
      ]
    },
    {
      "cell_type": "code",
      "metadata": {
        "colab": {
          "base_uri": "https://localhost:8080/"
        },
        "id": "5Us_AJv4NJBl",
        "outputId": "5f1588bd-bc79-4818-fbc3-534b0697ec70"
      },
      "source": [
        "def calc_score(total, double, scores=1):\n",
        "  if double==True:\n",
        "    scores=scores*2\n",
        "  total=total+scores\n",
        "  return total\n",
        "scores=5\n",
        "total=10\n",
        "new_score=calc_score(total, True, scores)\n",
        "print(new_score)\n",
        "new_score=calc_score(total,True)\n",
        "print(new_score)"
      ],
      "execution_count": 74,
      "outputs": [
        {
          "output_type": "stream",
          "text": [
            "20\n",
            "12\n"
          ],
          "name": "stdout"
        }
      ]
    },
    {
      "cell_type": "markdown",
      "metadata": {
        "id": "Iu5_SqrSP0UQ"
      },
      "source": [
        "60  \n",
        "(函式應用)"
      ]
    },
    {
      "cell_type": "code",
      "metadata": {
        "colab": {
          "base_uri": "https://localhost:8080/"
        },
        "id": "wVxnsamvOp-R",
        "outputId": "8347fa11-1bd9-4b11-a39a-7e032a79803b"
      },
      "source": [
        "def add_score(current, value):\n",
        "  current += value\n",
        "  return current\n",
        "print(add_score(80,10))"
      ],
      "execution_count": 75,
      "outputs": [
        {
          "output_type": "stream",
          "text": [
            "90\n"
          ],
          "name": "stdout"
        }
      ]
    },
    {
      "cell_type": "markdown",
      "metadata": {
        "id": "RMboXSoOQn6i"
      },
      "source": [
        "61  \n",
        "(try except應用)"
      ]
    },
    {
      "cell_type": "code",
      "metadata": {
        "colab": {
          "base_uri": "https://localhost:8080/"
        },
        "id": "0-3SyLPTQRaO",
        "outputId": "06098e8b-3b1c-4745-82a6-da08447647ad"
      },
      "source": [
        "try: \n",
        "  file1=open(\"file1.txt\", 'r') #開檔案來讀取\n",
        "  file2=open(\"file2.txt\", 'w+') #開檔案來寫入，若存在則覆蓋 \n",
        "except IOError:\n",
        "  print(\"檔案不存在\")\n",
        "else:\n",
        "  i=1\n",
        "  for line in file1:\n",
        "    print(line.rstrip())\n",
        "    file2.write(\"line \" + str(i) + \":\" + line)\n",
        "    i=i+1\n",
        "  file1.close()\n",
        "  file2.close()\n"
      ],
      "execution_count": 76,
      "outputs": [
        {
          "output_type": "stream",
          "text": [
            "檔案不存在\n"
          ],
          "name": "stdout"
        }
      ]
    },
    {
      "cell_type": "markdown",
      "metadata": {
        "id": "Rzgv0-K-RuPg"
      },
      "source": [
        "62  \n",
        "(錯誤偵錯)"
      ]
    },
    {
      "cell_type": "code",
      "metadata": {
        "id": "K0Sdy37NRWlM",
        "colab": {
          "base_uri": "https://localhost:8080/",
          "height": 133
        },
        "outputId": "3adcc1da-6440-4425-c205-383f250e74e4"
      },
      "source": [
        "import math\n",
        "#default motion for car\n",
        "go = True\n",
        "move = 0\n",
        "while(go):\n",
        "  if move == 0: #原始沒有縮排\n",
        "  go_dist = math.pi / move #會產生除以0的錯誤\n",
        "  move += 5\n",
        "else:\n",
        "  go_dist =0\n",
        "  move = 0\n"
      ],
      "execution_count": 77,
      "outputs": [
        {
          "output_type": "error",
          "ename": "IndentationError",
          "evalue": "ignored",
          "traceback": [
            "\u001b[0;36m  File \u001b[0;32m\"<ipython-input-77-0fa50c6affad>\"\u001b[0;36m, line \u001b[0;32m7\u001b[0m\n\u001b[0;31m    go_dist = math.pi / move #會產生除以0的錯誤\u001b[0m\n\u001b[0m          ^\u001b[0m\n\u001b[0;31mIndentationError\u001b[0m\u001b[0;31m:\u001b[0m expected an indented block\n"
          ]
        }
      ]
    },
    {
      "cell_type": "markdown",
      "metadata": {
        "id": "Crdpr1jymhEr"
      },
      "source": [
        "63  \n",
        "(range函式與//應用)"
      ]
    },
    {
      "cell_type": "code",
      "metadata": {
        "colab": {
          "base_uri": "https://localhost:8080/"
        },
        "id": "6DUhTjDsm0H4",
        "outputId": "e4386e98-6b6e-44ce-c491-d4b3cb833d33"
      },
      "source": [
        "scores=[90,80,82,76]\n",
        "count=0\n",
        "sum=0\n",
        "for index in range(0, len(scores)): #range函式(起始點,不包含終止點)\n",
        "  count += 1\n",
        "  sum += scores[index]\n",
        "average = sum / count #//是求餘數,/才是除法\n",
        "print(\"總計分數是：\",sum)\n",
        "print(\"平均分數是：\", average)"
      ],
      "execution_count": 78,
      "outputs": [
        {
          "output_type": "stream",
          "text": [
            "總計分數是： 328\n",
            "平均分數是： 82.0\n"
          ],
          "name": "stdout"
        }
      ]
    },
    {
      "cell_type": "markdown",
      "metadata": {
        "id": "tGJHYF26ozYa"
      },
      "source": [
        "64  \n",
        "(縮排應用)  \n",
        "(準備usefile.txt)"
      ]
    },
    {
      "cell_type": "code",
      "metadata": {
        "colab": {
          "base_uri": "https://localhost:8080/"
        },
        "id": "PwZUgjZ3nvLP",
        "outputId": "15df977f-b156-4653-aeea-e3732c0ee189"
      },
      "source": [
        "import os\n",
        "def read_filename(file):\n",
        "  line= None\n",
        "  if os.path.isfile(file):\n",
        "    readfile = open(file, 'r')\n",
        "    while line != '':  #此處應該縮排\n",
        "      line=readfile.readline() #此處應該縮排\n",
        "      print(line)       #此處應該縮排  \n",
        "read_filename(\"usefile.txt\")"
      ],
      "execution_count": 79,
      "outputs": [
        {
          "output_type": "stream",
          "text": [
            "這是檔尾\n",
            "\n"
          ],
          "name": "stdout"
        }
      ]
    },
    {
      "cell_type": "markdown",
      "metadata": {
        "id": "Z6pg85Bap-8h"
      },
      "source": [
        "65  \n",
        "(list使用方式為[], 以及:應用)"
      ]
    },
    {
      "cell_type": "code",
      "metadata": {
        "colab": {
          "base_uri": "https://localhost:8080/"
        },
        "id": "ii4jFAy0pydW",
        "outputId": "96c7b0a1-cf3c-4f1a-badc-09248cf65e60"
      },
      "source": [
        "nList = range(10)\n",
        "no = 0\n",
        "while (no<10): #少了:\n",
        "  print(nList[no])\n",
        "  if nList[no] == 5: #nlist(no)改成nList[no], =改成==, 少了:\n",
        "    break\n",
        "  else:\n",
        "    no += 3"
      ],
      "execution_count": 80,
      "outputs": [
        {
          "output_type": "stream",
          "text": [
            "0\n",
            "3\n",
            "6\n",
            "9\n"
          ],
          "name": "stdout"
        }
      ]
    },
    {
      "cell_type": "markdown",
      "metadata": {
        "id": "-crz-maSq3IJ"
      },
      "source": [
        "66  \n",
        "(try except finally應用)"
      ]
    },
    {
      "cell_type": "code",
      "metadata": {
        "id": "ks7BsHtFqa_d"
      },
      "source": [
        "#try:\n",
        "#  運算式\n",
        "#except 錯誤情況1:\n",
        "#  處理方式1\n",
        "#except 錯誤情況2:\n",
        "#  處理方式2\n",
        "#  ...\n",
        "#finally:\n",
        "#  一定會執行到的命令"
      ],
      "execution_count": 81,
      "outputs": []
    },
    {
      "cell_type": "markdown",
      "metadata": {
        "id": "abzOnLBKr0mw"
      },
      "source": [
        "67  \n",
        "(try except錯誤處理)"
      ]
    },
    {
      "cell_type": "code",
      "metadata": {
        "colab": {
          "base_uri": "https://localhost:8080/",
          "height": 364
        },
        "id": "uzoJEgNxryRz",
        "outputId": "c4c5ad2c-b2b7-4e22-b4ab-8bfc3d235ccc"
      },
      "source": [
        "while True:\n",
        "  try:\n",
        "    x=int(input(\"請輸入一個被除數：\"))\n",
        "    y=int(input(\"請輸入一個除數：\"))\n",
        "    result = x / y\n",
        "  except ZeroDivisionError:\n",
        "    print(\"除數不能為零，再試一次...\")\n",
        "  else:\n",
        "    print(result)\n"
      ],
      "execution_count": 91,
      "outputs": [
        {
          "output_type": "stream",
          "text": [
            "請輸入一個被除數：50\n",
            "請輸入一個除數：10\n",
            "5.0\n",
            "請輸入一個被除數：22\n",
            "請輸入一個除數：3\n",
            "7.333333333333333\n",
            "請輸入一個被除數：\n"
          ],
          "name": "stdout"
        },
        {
          "output_type": "error",
          "ename": "ValueError",
          "evalue": "ignored",
          "traceback": [
            "\u001b[0;31m---------------------------------------------------------------------------\u001b[0m",
            "\u001b[0;31mValueError\u001b[0m                                Traceback (most recent call last)",
            "\u001b[0;32m<ipython-input-91-c783a886fa46>\u001b[0m in \u001b[0;36m<module>\u001b[0;34m()\u001b[0m\n\u001b[1;32m      1\u001b[0m \u001b[0;32mwhile\u001b[0m \u001b[0;32mTrue\u001b[0m\u001b[0;34m:\u001b[0m\u001b[0;34m\u001b[0m\u001b[0;34m\u001b[0m\u001b[0m\n\u001b[1;32m      2\u001b[0m   \u001b[0;32mtry\u001b[0m\u001b[0;34m:\u001b[0m\u001b[0;34m\u001b[0m\u001b[0;34m\u001b[0m\u001b[0m\n\u001b[0;32m----> 3\u001b[0;31m     \u001b[0mx\u001b[0m\u001b[0;34m=\u001b[0m\u001b[0mint\u001b[0m\u001b[0;34m(\u001b[0m\u001b[0minput\u001b[0m\u001b[0;34m(\u001b[0m\u001b[0;34m\"請輸入一個被除數：\"\u001b[0m\u001b[0;34m)\u001b[0m\u001b[0;34m)\u001b[0m\u001b[0;34m\u001b[0m\u001b[0;34m\u001b[0m\u001b[0m\n\u001b[0m\u001b[1;32m      4\u001b[0m     \u001b[0my\u001b[0m\u001b[0;34m=\u001b[0m\u001b[0mint\u001b[0m\u001b[0;34m(\u001b[0m\u001b[0minput\u001b[0m\u001b[0;34m(\u001b[0m\u001b[0;34m\"請輸入一個除數：\"\u001b[0m\u001b[0;34m)\u001b[0m\u001b[0;34m)\u001b[0m\u001b[0;34m\u001b[0m\u001b[0;34m\u001b[0m\u001b[0m\n\u001b[1;32m      5\u001b[0m     \u001b[0mresult\u001b[0m \u001b[0;34m=\u001b[0m \u001b[0mx\u001b[0m \u001b[0;34m/\u001b[0m \u001b[0my\u001b[0m\u001b[0;34m\u001b[0m\u001b[0;34m\u001b[0m\u001b[0m\n",
            "\u001b[0;31mValueError\u001b[0m: invalid literal for int() with base 10: ''"
          ]
        }
      ]
    },
    {
      "cell_type": "markdown",
      "metadata": {
        "id": "novLL9Npznpx"
      },
      "source": [
        "68  \n",
        "(import as應用)"
      ]
    },
    {
      "cell_type": "code",
      "metadata": {
        "id": "h5-KoRW4sZg8"
      },
      "source": [
        "from random import randint as rt"
      ],
      "execution_count": 84,
      "outputs": []
    },
    {
      "cell_type": "markdown",
      "metadata": {
        "id": "hrohYLfv1PR5"
      },
      "source": [
        "69  \n",
        "(os函式應用)"
      ]
    },
    {
      "cell_type": "code",
      "metadata": {
        "colab": {
          "base_uri": "https://localhost:8080/"
        },
        "id": "qbzFxPr_1N2F",
        "outputId": "b89867a1-6ce5-4e4e-8805-12c060e44ffc"
      },
      "source": [
        "import os\n",
        "def print_file(filename):\n",
        "  line=None\n",
        "  if os.path.isfile(filename): #檔案存在是isfile函式,不存在isexit\n",
        "    data = open(filename, 'r')\n",
        "    for line in data:\n",
        "      print(line)\n",
        "print_file('usefile.txt')"
      ],
      "execution_count": 85,
      "outputs": [
        {
          "output_type": "stream",
          "text": [
            "這是檔尾\n"
          ],
          "name": "stdout"
        }
      ]
    },
    {
      "cell_type": "markdown",
      "metadata": {
        "id": "zwz-PnJ72ona"
      },
      "source": [
        "70  \n",
        "(random套件應用) \n",
        "* random.randrange(a, b, c)  \n",
        "返回開區間[a,b),間隔c之數字 \n",
        "* random.randint(a, b)  \n",
        "返回閉區間[a, b]範圍内的整数值  \n",
        "* numpy.random.randint(a, b)  \n",
        "返回開區間[a, b)範圍内的整数值"
      ]
    },
    {
      "cell_type": "code",
      "metadata": {
        "colab": {
          "base_uri": "https://localhost:8080/"
        },
        "id": "57gSbOvN138-",
        "outputId": "56532215-0bdd-4e58-c5e7-64aca4745ea1"
      },
      "source": [
        "import random\n",
        "data=random.randrange(1,11,1) #包含1不包含11,產生1個隨機數字\n",
        "print(data)\n",
        "data=random.randint(1,10) #包含1~10的隨機數字\n",
        "print(data)"
      ],
      "execution_count": 86,
      "outputs": [
        {
          "output_type": "stream",
          "text": [
            "10\n",
            "4\n"
          ],
          "name": "stdout"
        }
      ]
    },
    {
      "cell_type": "markdown",
      "metadata": {
        "id": "cuqw3rP85CQa"
      },
      "source": [
        "71  \n",
        "(random函式應用"
      ]
    },
    {
      "cell_type": "code",
      "metadata": {
        "colab": {
          "base_uri": "https://localhost:8080/"
        },
        "id": "eptF9Mw73BaG",
        "outputId": "48294aac-627f-459e-b269-306eacd26d1f"
      },
      "source": [
        "import random\n",
        "print(random.random())"
      ],
      "execution_count": 87,
      "outputs": [
        {
          "output_type": "stream",
          "text": [
            "0.6443237439974028\n"
          ],
          "name": "stdout"
        }
      ]
    },
    {
      "cell_type": "markdown",
      "metadata": {
        "id": "Fu71pDMR5e1g"
      },
      "source": [
        "72  \n",
        "(random套件應用)"
      ]
    },
    {
      "cell_type": "code",
      "metadata": {
        "colab": {
          "base_uri": "https://localhost:8080/"
        },
        "id": "69yQ9osN5dAe",
        "outputId": "0be19c5b-0d90-429c-8678-1f55a07ff0c5"
      },
      "source": [
        "from random import randint\n",
        "print(randint(0,10)*5)\n",
        "from random import randrange\n",
        "print(randrange(0,51,5))"
      ],
      "execution_count": 88,
      "outputs": [
        {
          "output_type": "stream",
          "text": [
            "25\n",
            "25\n"
          ],
          "name": "stdout"
        }
      ]
    },
    {
      "cell_type": "markdown",
      "metadata": {
        "id": "T1TnWkYn6EFB"
      },
      "source": [
        "73  \n",
        "(math套件應用)"
      ]
    },
    {
      "cell_type": "code",
      "metadata": {
        "colab": {
          "base_uri": "https://localhost:8080/"
        },
        "id": "8LS3383q57X0",
        "outputId": "2f410aae-4ad0-4aa8-b998-a0cb7f322575"
      },
      "source": [
        "import math\n",
        "x=-5.33\n",
        "x=math.fabs(x) #取絕對值\n",
        "print(x)\n",
        "x=math.floor(x) #低於x且最接近的整數\n",
        "print(x)"
      ],
      "execution_count": 89,
      "outputs": [
        {
          "output_type": "stream",
          "text": [
            "5.33\n",
            "5\n"
          ],
          "name": "stdout"
        }
      ]
    },
    {
      "cell_type": "code",
      "metadata": {
        "id": "k7z6eHL87AEL"
      },
      "source": [
        ""
      ],
      "execution_count": null,
      "outputs": []
    }
  ]
}